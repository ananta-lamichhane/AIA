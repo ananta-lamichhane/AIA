{
 "cells": [
  {
   "cell_type": "markdown",
   "metadata": {},
   "source": [
    "# Homework 4 : Model Selection\n",
    "\n",
    "The goal of this homework is find a suitable model that can distinguish handwritten digits."
   ]
  },
  {
   "cell_type": "code",
   "execution_count": 28,
   "metadata": {},
   "outputs": [],
   "source": [
    "import random\n",
    "import torchvision\n",
    "import numpy as np\n",
    "from matplotlib import pyplot as plt\n",
    "from sklearn.model_selection import KFold\n",
    "from sklearn.metrics import accuracy_score\n",
    "import sklearn\n",
    "\n",
    "def prepareData(n=1000):\n",
    "    \"\"\"\n",
    "    Downloads the dataset. Displays some examples.\n",
    "    Returns the labeled dataset.\n",
    "\n",
    "    Parameters\n",
    "    ----------\n",
    "    n : number of data sample (max 70 000)\n",
    "\n",
    "    Returns\n",
    "    -------\n",
    "    X : Data Matrix\n",
    "        (n, 28, 28).\n",
    "    y : labels\n",
    "        n\n",
    "\n",
    "    \"\"\"\n",
    "    mnist_train = torchvision.datasets.MNIST(\"./data\", download=True,)\n",
    "    mnist_test = torchvision.datasets.MNIST(\"./data\", download=True, train = False)\n",
    "    \n",
    "\n",
    "    \n",
    "    X = []\n",
    "    y = []\n",
    "    for x,label in mnist_train:\n",
    "        X.append(np.array(x))\n",
    "        y.append(label)\n",
    "    \n",
    "    X_test = []\n",
    "    y_test = []\n",
    "    for x,label in mnist_test:\n",
    "        X_test.append(np.array(x))\n",
    "        y_test.append(label)\n",
    "    \n",
    "    X = np.array(X)\n",
    "    y = np.array(y)\n",
    "    X_test= np.array(X_test)\n",
    "    y_test = np.array(y_test)\n",
    "    \n",
    "    \n",
    "    sample = random.sample(range(len(X)), n)\n",
    "    X = np.concatenate((X,X_test))[sample]\n",
    "    y = np.concatenate((y,y_test))[sample]\n",
    "    \n",
    "    \n",
    "    return X,y\n",
    "\n",
    "def showSamples(X,y):\n",
    "    fig=plt.figure(figsize=(8, 5))\n",
    "    columns = 5\n",
    "    rows = 2\n",
    "    imgs = [X[i,:,:] for i in range(10)]\n",
    "    for i in range(1, columns*rows +1):\n",
    "        fig.add_subplot(rows, columns, i)\n",
    "        plt.imshow(X[i-1,:,:] , cmap =\"gray\")\n",
    "        plt.axis('off')\n",
    "        plt.title(str(y[i-1]))\n",
    "    plt.show()"
   ]
  },
  {
   "cell_type": "code",
   "execution_count": 29,
   "metadata": {},
   "outputs": [
    {
     "data": {
      "image/png": "[encoded data removed]",
      "text/plain": [
       "<Figure size 576x360 with 10 Axes>"
      ]
     },
     "metadata": {
      "needs_background": "light"
     },
     "output_type": "display_data"
    },
    {
     "name": "stdout",
     "output_type": "stream",
     "text": [
      "Shape of data matrix X: (1000, 28, 28)\n",
      "Shape of labels y: (1000,)\n"
     ]
    }
   ],
   "source": [
    "X,y = prepareData(1000)\n",
    "showSamples(X,y)\n",
    "print(\"Shape of data matrix X:\", X.shape)\n",
    "print(\"Shape of labels y:\", y.shape)"
   ]
  },
  {
   "cell_type": "markdown",
   "metadata": {},
   "source": [
    "# Extract features and Train Model\n",
    "\n",
    "TODO:\n",
    "- Use any feature extraction method. Compute edges, histogram of oriented gradients, contours etc. to get a more concise representation of the images. \n",
    "- Train different models to learn a classification. \n",
    " - You can use any classification model. However, it is easier to use the models from sklearn: https://scikit-learn.org/stable/auto_examples/classification/plot_classifier_comparison.html\n",
    " "
   ]
  },
  {
   "cell_type": "code",
   "execution_count": 19,
   "metadata": {},
   "outputs": [],
   "source": [
    "def featureExtraction(x):\n",
    "    \"\"\"\n",
    "    Applies a feature extraction on a singular image.\n",
    "\n",
    "    Parameters\n",
    "    ----------\n",
    "    x : ndarray\n",
    "        a numpy array of shape 28x28\n",
    "\n",
    "    Returns\n",
    "    -------\n",
    "    ndarray\n",
    "        The resulting feature should be one-dimensional (use x.flatten())\n",
    "    \"\"\"\n",
    "    #TODO: Define a feauture extraction method. \n",
    "    # This method is called individually on each data point. \n",
    "    # You can also look into methods that do feature extraction on the complete dataset.\n",
    "    return x.flatten()\n",
    "\n",
    "def preprocessDataset(X):\n",
    "    \"\"\"\n",
    "    Applies a feature extraction on a dataset\n",
    "\n",
    "    Parameters\n",
    "    ----------\n",
    "    X : ndarray\n",
    "        Data matrix of size nx28x28\n",
    "    Returns\n",
    "    -------\n",
    "    X_prep : ndarray\n",
    "        Data matrix of size nxd where d is some dimension of the feature\n",
    "    \"\"\"\n",
    "    \n",
    "    # TODO: (Optional) You can change this if necessary\n",
    "    X_prep = []\n",
    "    for i in range(len(X)):\n",
    "        x = X[i,:,:]\n",
    "        x = featureExtraction(x)\n",
    "        X_prep.append(x)    \n",
    "    X_prep = np.array(X_prep)\n",
    "    return X_prep\n",
    "\n",
    "\n",
    "def train(X,y):\n",
    "    # TODO: Select a classifier from sklearn and train it on the data\n",
    "    from sklearn.naive_bayes import GaussianNB\n",
    "    model = GaussianNB()\n",
    "    model.fit(X,y)\n",
    "    return model"
   ]
  },
  {
   "cell_type": "markdown",
   "metadata": {},
   "source": [
    "# K-fold Cross Validation\n",
    "\n",
    "TODO:\n",
    "- Implement K-Fold Cross Validation\n",
    " - Split data into k partitions\n",
    " - Train model on k-1 partitions\n",
    " - Evaluate model on remaining partition using **Accuracy** as a metric\n",
    " - repeat k-times and compute **average Accuracy** over all splits\n",
    " \n",
    "The following code computes cross-validation on a single data split.\n",
    "Adjust the code to evaluate on multiple splits."
   ]
  },
  {
   "cell_type": "code",
   "execution_count": 26,
   "metadata": {},
   "outputs": [
    {
     "data": {
      "image/png": "[encoded data removed]",
      "text/plain": [
       "<Figure size 576x360 with 10 Axes>"
      ]
     },
     "metadata": {
      "needs_background": "light"
     },
     "output_type": "display_data"
    },
    {
     "name": "stdout",
     "output_type": "stream",
     "text": [
      "Accuracy Training: 0.5676\n",
      "Accuracy Test: 0.5702\n"
     ]
    }
   ],
   "source": [
    "# Number of data samples (reduce number during initial test runs if procedure takes too long)\n",
    "n = 50000\n",
    "X,y = prepareData(n)\n",
    "\n",
    "\n",
    "# Feature extraction\n",
    "D = preprocessDataset(X)\n",
    "\n",
    "# Number of k-folds\n",
    "n_splits = 5\n",
    "train_size = len(X) - len(X)//n_splits\n",
    "\n",
    "\n",
    "# Cross Validation on a single split: First k-1 splits are used for training and remaining for evaluation.\n",
    "X_train, X_test = D[:train_size], D[train_size:]\n",
    "y_train, y_test = y[:train_size], y[train_size:]\n",
    "\n",
    "# Train model\n",
    "model = train(X_train,y_train)\n",
    "\n",
    "# Evaluate model on unseen data\n",
    "y_pred = model.predict(X_test)\n",
    "y_pred_train = model.predict(X_train)\n",
    "print(\"Accuracy Training:\", accuracy_score(y_train,y_pred_train))\n",
    "print(\"Accuracy Test:\", accuracy_score(y_test,y_pred))"
   ]
  },
  {
   "cell_type": "markdown",
   "metadata": {},
   "source": [
    "# Document your model selection\n",
    "\n",
    "TODO:\n",
    "- Repeat the previous steps, adjust your feature extraction and classification methods until you get satisfying accuracy results.\n",
    "- Document your experiments. \n",
    "- **Tip:** Adjust the previous code, such that you can run multiple experiments, e.g. run different combinations of feature extractors and classifiers."
   ]
  }
 ],
 "metadata": {
  "kernelspec": {
   "display_name": "Python 3",
   "language": "python",
   "name": "python3"
  },
  "language_info": {
   "codemirror_mode": {
    "name": "ipython",
    "version": 3
   },
   "file_extension": ".py",
   "mimetype": "text/x-python",
   "name": "python",
   "nbconvert_exporter": "python",
   "pygments_lexer": "ipython3",
   "version": "3.7.6"
  }
 },
 "nbformat": 4,
 "nbformat_minor": 4
}
